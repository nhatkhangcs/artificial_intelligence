{
 "cells": [
  {
   "cell_type": "code",
   "execution_count": 1,
   "metadata": {},
   "outputs": [],
   "source": [
    "import numpy as np # linear algebra\n",
    "import pandas as pd # data processing, CSV file I/O (e.g. pd.read_csv)\n",
    "import matplotlib.pyplot as plt\n",
    "import seaborn as sns\n",
    "from sklearn.cluster import KMeans\n",
    "import plotly.express as px\n",
    "from sklearn.preprocessing import StandardScaler"
   ]
  },
  {
   "cell_type": "code",
   "execution_count": 2,
   "metadata": {},
   "outputs": [
    {
     "name": "stdout",
     "output_type": "stream",
     "text": [
      "<class 'pandas.core.frame.DataFrame'>\n",
      "RangeIndex: 243 entries, 0 to 242\n",
      "Data columns (total 13 columns):\n",
      " #   Column                                            Non-Null Count  Dtype  \n",
      "---  ------                                            --------------  -----  \n",
      " 0   Unnamed: 0                                        243 non-null    int64  \n",
      " 1   Country code                                      243 non-null    object \n",
      " 2   Country                                           243 non-null    object \n",
      " 3   Continental region                                243 non-null    object \n",
      " 4   NO. OF Internet Plans                             231 non-null    float64\n",
      " 5   Average price of 1GB (USD)                        243 non-null    object \n",
      " 6   Cheapest 1GB for 30 days (USD)                    231 non-null    float64\n",
      " 7   Most expensive 1GB (USD)                          231 non-null    float64\n",
      " 8   Average price of 1GB (USD  at the start of 2021)  231 non-null    object \n",
      " 9   Average price of 1GB (USD – at start of 2020)     231 non-null    object \n",
      " 10  Internet users                                    213 non-null    object \n",
      " 11  Population                                        211 non-null    object \n",
      " 12  Avg \n",
      "(Mbit/s)Ookla                                141 non-null    float64\n",
      "dtypes: float64(4), int64(1), object(8)\n",
      "memory usage: 24.8+ KB\n"
     ]
    }
   ],
   "source": [
    "inter_price = pd.read_excel(\"E:\\\\SOFT\\\\General_Subjects\\\\artificial_intelligence\\\\AI_projects\\dataset\\\\internet_prices\\\\all_csv-sorted.xlsx\")\n",
    "plt.style.use('seaborn-bright')\n",
    "inter_price.info()"
   ]
  },
  {
   "cell_type": "code",
   "execution_count": 3,
   "metadata": {},
   "outputs": [
    {
     "data": {
      "text/html": [
       "<div>\n",
       "<style scoped>\n",
       "    .dataframe tbody tr th:only-of-type {\n",
       "        vertical-align: middle;\n",
       "    }\n",
       "\n",
       "    .dataframe tbody tr th {\n",
       "        vertical-align: top;\n",
       "    }\n",
       "\n",
       "    .dataframe thead th {\n",
       "        text-align: right;\n",
       "    }\n",
       "</style>\n",
       "<table border=\"1\" class=\"dataframe\">\n",
       "  <thead>\n",
       "    <tr style=\"text-align: right;\">\n",
       "      <th></th>\n",
       "      <th>Unnamed: 0</th>\n",
       "      <th>NO. OF Internet Plans</th>\n",
       "      <th>Cheapest 1GB for 30 days (USD)</th>\n",
       "      <th>Most expensive 1GB (USD)</th>\n",
       "      <th>Avg \\n(Mbit/s)Ookla</th>\n",
       "    </tr>\n",
       "  </thead>\n",
       "  <tbody>\n",
       "    <tr>\n",
       "      <th>count</th>\n",
       "      <td>243.000000</td>\n",
       "      <td>231.000000</td>\n",
       "      <td>231.000000</td>\n",
       "      <td>231.000000</td>\n",
       "      <td>141.000000</td>\n",
       "    </tr>\n",
       "    <tr>\n",
       "      <th>mean</th>\n",
       "      <td>121.069959</td>\n",
       "      <td>26.610390</td>\n",
       "      <td>1.718442</td>\n",
       "      <td>29.664848</td>\n",
       "      <td>37.275674</td>\n",
       "    </tr>\n",
       "    <tr>\n",
       "      <th>std</th>\n",
       "      <td>70.405549</td>\n",
       "      <td>16.457446</td>\n",
       "      <td>4.764523</td>\n",
       "      <td>59.235115</td>\n",
       "      <td>28.669584</td>\n",
       "    </tr>\n",
       "    <tr>\n",
       "      <th>min</th>\n",
       "      <td>0.000000</td>\n",
       "      <td>1.000000</td>\n",
       "      <td>0.000000</td>\n",
       "      <td>0.630000</td>\n",
       "      <td>4.890000</td>\n",
       "    </tr>\n",
       "    <tr>\n",
       "      <th>25%</th>\n",
       "      <td>60.500000</td>\n",
       "      <td>15.000000</td>\n",
       "      <td>0.215000</td>\n",
       "      <td>5.905000</td>\n",
       "      <td>16.730000</td>\n",
       "    </tr>\n",
       "    <tr>\n",
       "      <th>50%</th>\n",
       "      <td>121.000000</td>\n",
       "      <td>22.000000</td>\n",
       "      <td>0.630000</td>\n",
       "      <td>12.500000</td>\n",
       "      <td>27.840000</td>\n",
       "    </tr>\n",
       "    <tr>\n",
       "      <th>75%</th>\n",
       "      <td>181.500000</td>\n",
       "      <td>36.000000</td>\n",
       "      <td>1.370000</td>\n",
       "      <td>34.290000</td>\n",
       "      <td>49.660000</td>\n",
       "    </tr>\n",
       "    <tr>\n",
       "      <th>max</th>\n",
       "      <td>243.000000</td>\n",
       "      <td>60.000000</td>\n",
       "      <td>45.160000</td>\n",
       "      <td>768.870000</td>\n",
       "      <td>135.350000</td>\n",
       "    </tr>\n",
       "  </tbody>\n",
       "</table>\n",
       "</div>"
      ],
      "text/plain": [
       "       Unnamed: 0  NO. OF Internet Plans   Cheapest 1GB for 30 days (USD)  \\\n",
       "count  243.000000              231.000000                      231.000000   \n",
       "mean   121.069959               26.610390                        1.718442   \n",
       "std     70.405549               16.457446                        4.764523   \n",
       "min      0.000000                1.000000                        0.000000   \n",
       "25%     60.500000               15.000000                        0.215000   \n",
       "50%    121.000000               22.000000                        0.630000   \n",
       "75%    181.500000               36.000000                        1.370000   \n",
       "max    243.000000               60.000000                       45.160000   \n",
       "\n",
       "       Most expensive 1GB (USD)  Avg \\n(Mbit/s)Ookla  \n",
       "count                231.000000           141.000000  \n",
       "mean                  29.664848            37.275674  \n",
       "std                   59.235115            28.669584  \n",
       "min                    0.630000             4.890000  \n",
       "25%                    5.905000            16.730000  \n",
       "50%                   12.500000            27.840000  \n",
       "75%                   34.290000            49.660000  \n",
       "max                  768.870000           135.350000  "
      ]
     },
     "execution_count": 3,
     "metadata": {},
     "output_type": "execute_result"
    }
   ],
   "source": [
    "inter_price.describe()"
   ]
  },
  {
   "cell_type": "code",
   "execution_count": 4,
   "metadata": {},
   "outputs": [
    {
     "data": {
      "text/html": [
       "<div>\n",
       "<style scoped>\n",
       "    .dataframe tbody tr th:only-of-type {\n",
       "        vertical-align: middle;\n",
       "    }\n",
       "\n",
       "    .dataframe tbody tr th {\n",
       "        vertical-align: top;\n",
       "    }\n",
       "\n",
       "    .dataframe thead th {\n",
       "        text-align: right;\n",
       "    }\n",
       "</style>\n",
       "<table border=\"1\" class=\"dataframe\">\n",
       "  <thead>\n",
       "    <tr style=\"text-align: right;\">\n",
       "      <th></th>\n",
       "      <th>Unnamed: 0</th>\n",
       "      <th>Country code</th>\n",
       "      <th>Country</th>\n",
       "      <th>Continental region</th>\n",
       "      <th>NO. OF Internet Plans</th>\n",
       "      <th>Average price of 1GB (USD)</th>\n",
       "      <th>Cheapest 1GB for 30 days (USD)</th>\n",
       "      <th>Most expensive 1GB (USD)</th>\n",
       "      <th>Average price of 1GB (USD  at the start of 2021)</th>\n",
       "      <th>Average price of 1GB (USD – at start of 2020)</th>\n",
       "      <th>Internet users</th>\n",
       "      <th>Population</th>\n",
       "      <th>Avg \\n(Mbit/s)Ookla</th>\n",
       "    </tr>\n",
       "  </thead>\n",
       "  <tbody>\n",
       "    <tr>\n",
       "      <th>0</th>\n",
       "      <td>0</td>\n",
       "      <td>IL</td>\n",
       "      <td>Israel</td>\n",
       "      <td>NEAR EAST</td>\n",
       "      <td>27.0</td>\n",
       "      <td>0.05</td>\n",
       "      <td>0.02</td>\n",
       "      <td>20.95</td>\n",
       "      <td>0.11</td>\n",
       "      <td>0.9</td>\n",
       "      <td>6,788,737</td>\n",
       "      <td>8,381,516</td>\n",
       "      <td>28.01</td>\n",
       "    </tr>\n",
       "    <tr>\n",
       "      <th>1</th>\n",
       "      <td>1</td>\n",
       "      <td>KG</td>\n",
       "      <td>Kyrgyzstan</td>\n",
       "      <td>CIS (FORMER USSR)</td>\n",
       "      <td>20.0</td>\n",
       "      <td>0.15</td>\n",
       "      <td>0.10</td>\n",
       "      <td>7.08</td>\n",
       "      <td>0.21</td>\n",
       "      <td>0.27</td>\n",
       "      <td>2,309,235</td>\n",
       "      <td>6,304,030</td>\n",
       "      <td>16.30</td>\n",
       "    </tr>\n",
       "    <tr>\n",
       "      <th>2</th>\n",
       "      <td>2</td>\n",
       "      <td>FJ</td>\n",
       "      <td>Fiji</td>\n",
       "      <td>OCEANIA</td>\n",
       "      <td>18.0</td>\n",
       "      <td>0.19</td>\n",
       "      <td>0.05</td>\n",
       "      <td>0.85</td>\n",
       "      <td>0.59</td>\n",
       "      <td>3.57</td>\n",
       "      <td>452,479</td>\n",
       "      <td>883,483</td>\n",
       "      <td>25.99</td>\n",
       "    </tr>\n",
       "    <tr>\n",
       "      <th>3</th>\n",
       "      <td>3</td>\n",
       "      <td>IT</td>\n",
       "      <td>Italy</td>\n",
       "      <td>WESTERN EUROPE</td>\n",
       "      <td>29.0</td>\n",
       "      <td>0.27</td>\n",
       "      <td>0.09</td>\n",
       "      <td>3.54</td>\n",
       "      <td>0.43</td>\n",
       "      <td>1.73</td>\n",
       "      <td>50,540,000</td>\n",
       "      <td>60,627,291</td>\n",
       "      <td>37.15</td>\n",
       "    </tr>\n",
       "    <tr>\n",
       "      <th>4</th>\n",
       "      <td>4</td>\n",
       "      <td>SD</td>\n",
       "      <td>Sudan</td>\n",
       "      <td>SUB-SAHARAN AFRICA</td>\n",
       "      <td>33.0</td>\n",
       "      <td>0.27</td>\n",
       "      <td>0.03</td>\n",
       "      <td>0.92</td>\n",
       "      <td>0.63</td>\n",
       "      <td>0.68</td>\n",
       "      <td>12,512,639</td>\n",
       "      <td>41,801,533</td>\n",
       "      <td>9.50</td>\n",
       "    </tr>\n",
       "  </tbody>\n",
       "</table>\n",
       "</div>"
      ],
      "text/plain": [
       "   Unnamed: 0 Country code     Country  Continental region  \\\n",
       "0           0           IL      Israel           NEAR EAST   \n",
       "1           1           KG  Kyrgyzstan   CIS (FORMER USSR)   \n",
       "2           2           FJ        Fiji             OCEANIA   \n",
       "3           3           IT       Italy      WESTERN EUROPE   \n",
       "4           4           SD       Sudan  SUB-SAHARAN AFRICA   \n",
       "\n",
       "   NO. OF Internet Plans  Average price of 1GB (USD)  \\\n",
       "0                    27.0                       0.05   \n",
       "1                    20.0                       0.15   \n",
       "2                    18.0                       0.19   \n",
       "3                    29.0                       0.27   \n",
       "4                    33.0                       0.27   \n",
       "\n",
       "   Cheapest 1GB for 30 days (USD)  Most expensive 1GB (USD)  \\\n",
       "0                            0.02                     20.95   \n",
       "1                            0.10                      7.08   \n",
       "2                            0.05                      0.85   \n",
       "3                            0.09                      3.54   \n",
       "4                            0.03                      0.92   \n",
       "\n",
       "  Average price of 1GB (USD  at the start of 2021)  \\\n",
       "0                                             0.11   \n",
       "1                                             0.21   \n",
       "2                                             0.59   \n",
       "3                                             0.43   \n",
       "4                                             0.63   \n",
       "\n",
       "  Average price of 1GB (USD – at start of 2020) Internet users  Population  \\\n",
       "0                                           0.9      6,788,737   8,381,516   \n",
       "1                                          0.27      2,309,235   6,304,030   \n",
       "2                                          3.57        452,479     883,483   \n",
       "3                                          1.73     50,540,000  60,627,291   \n",
       "4                                          0.68     12,512,639  41,801,533   \n",
       "\n",
       "   Avg \\n(Mbit/s)Ookla  \n",
       "0                28.01  \n",
       "1                16.30  \n",
       "2                25.99  \n",
       "3                37.15  \n",
       "4                 9.50  "
      ]
     },
     "execution_count": 4,
     "metadata": {},
     "output_type": "execute_result"
    }
   ],
   "source": [
    "\n",
    "#inter_price[\"most_exp_1GB\"] = inter_price[\"most_exp_1GB\"].replace(0, st.mean(inter_price[\"Most expensive 1GB (USD)\"]))\n",
    "#inter_price.drop(inter_price[inter_price[\"aver_price_1GB\"] == \"NO PROVIDERS\"].index|inter_price[inter_price[\"aver_price_1GB\"] == \"HYPERINFLATION\"].index|inter_price[inter_price[\"aver_price_1GB\"] == \"Prices listed in non-convertible 'units'\"].index| inter_price[inter_price[\"aver_price_1GB\"] ==\"UNRELIABLE EXCHANGE RATES\"].index, inplace = True)\n",
    "inter_price = inter_price.dropna()\n",
    "#inter_price.drop(inter_price[inter_price[\"population\"] == None].index, inplace = True)\n",
    "#inter_price.drop(inter_price[inter_price[\"avg\"] == None].index, inplace = True)\n",
    "#inter_price[\"Average price of 1GB (USD  at the start of 2021)\"] = inter_price[\"Average price of 1GB (USD  at the start of 2021)\"].replace(0, st.mean(inter_price[\"Average price of 1GB (USD  at the start of 2021)\"]))\n",
    "#inter_price[\"Average price of 1GB (USD - at start of 2020)\"] = inter_price[\"Average price of 1GB (USD - at start of 2020)\"].replace(0, st.mean(inter_price[\"Average price of 1GB (USD - at start of 2020)\"]))\n",
    "inter_price.head()"
   ]
  },
  {
   "cell_type": "code",
   "execution_count": 5,
   "metadata": {},
   "outputs": [
    {
     "data": {
      "text/plain": [
       "Index(['Unnamed: 0', 'Country code', 'Country', 'Continental region',\n",
       "       'NO. OF Internet Plans ', 'Average price of 1GB (USD)',\n",
       "       'Cheapest 1GB for 30 days (USD)', 'Most expensive 1GB (USD)',\n",
       "       'Average price of 1GB (USD  at the start of 2021)',\n",
       "       'Average price of 1GB (USD – at start of 2020)', 'Internet users',\n",
       "       'Population', 'Avg \\n(Mbit/s)Ookla'],\n",
       "      dtype='object')"
      ]
     },
     "execution_count": 5,
     "metadata": {},
     "output_type": "execute_result"
    }
   ],
   "source": [
    "inter_price.columns"
   ]
  },
  {
   "cell_type": "code",
   "execution_count": 6,
   "metadata": {},
   "outputs": [],
   "source": [
    "inter_price.drop('Unnamed: 0',axis = 1,inplace = True) \n",
    "inter_price.drop('Country code',axis = 1,inplace = True) \n",
    "inter_price.drop('Avg \\n(Mbit/s)Ookla',axis = 1,inplace = True) \n",
    "\n",
    "inter_price['Internet plans'] = inter_price['NO. OF Internet Plans ']\n",
    "inter_price.drop('NO. OF Internet Plans ',axis = 1,inplace = True) \n",
    "\n",
    "inter_price['Avg price'] = inter_price['Average price of 1GB (USD)']\n",
    "inter_price.drop('Average price of 1GB (USD)',axis = 1,inplace = True) \n",
    "\n",
    "inter_price['Cheapest'] = inter_price['Cheapest 1GB for 30 days (USD)']\n",
    "inter_price.drop('Cheapest 1GB for 30 days (USD)',axis = 1,inplace = True) \n",
    "\n",
    "inter_price['Most expensive'] = inter_price['Most expensive 1GB (USD)']\n",
    "inter_price.drop('Most expensive 1GB (USD)',axis = 1,inplace = True)\n",
    "\n",
    "inter_price['Avg price (2021)'] = inter_price['Average price of 1GB (USD  at the start of 2021)']\n",
    "inter_price.drop('Average price of 1GB (USD  at the start of 2021)',axis = 1,inplace = True) \n",
    "\n",
    "inter_price['Avg price (2020)'] = inter_price['Average price of 1GB (USD – at start of 2020)']\n",
    "inter_price.drop('Average price of 1GB (USD – at start of 2020)',axis = 1,inplace = True)"
   ]
  },
  {
   "cell_type": "code",
   "execution_count": 7,
   "metadata": {},
   "outputs": [],
   "source": [
    "# Dropping rows with no population specified\n",
    "# Dropping rows with no avg price\n",
    "# Dropping rows with no internet plans\n",
    "inter_price.drop(inter_price[inter_price['Population'].isnull()].index,inplace = True)\n",
    "\n",
    "inter_price.drop(inter_price[inter_price['Avg price'] == 'NO PROVIDERS'].index,inplace = True)\n",
    "inter_price.drop(inter_price[inter_price['Avg price'] == 'HYPERINFLATION'].index,inplace = True)\n",
    "inter_price.drop(inter_price[inter_price['Avg price'] == \"Prices listed in non-convertible 'units'\"].index,inplace = True)\n",
    "\n",
    "inter_price.drop(inter_price[inter_price['Internet plans'].isnull()].index,inplace = True)\n",
    "\n",
    "inter_price.drop(inter_price[inter_price['Avg price (2020)'] == 'NO PACKAGES'].index,inplace = True)\n",
    "inter_price.drop(inter_price[inter_price['Avg price (2021)'] == 'NO PACKAGES'].index,inplace = True)"
   ]
  },
  {
   "cell_type": "code",
   "execution_count": 8,
   "metadata": {},
   "outputs": [
    {
     "data": {
      "text/plain": [
       "Country               0\n",
       "Continental region    0\n",
       "Internet users        0\n",
       "Population            0\n",
       "Internet plans        0\n",
       "Avg price             0\n",
       "Cheapest              0\n",
       "Most expensive        0\n",
       "Avg price (2021)      0\n",
       "Avg price (2020)      0\n",
       "dtype: int64"
      ]
     },
     "execution_count": 8,
     "metadata": {},
     "output_type": "execute_result"
    }
   ],
   "source": [
    "inter_price.isnull().sum()"
   ]
  },
  {
   "cell_type": "code",
   "execution_count": 9,
   "metadata": {},
   "outputs": [
    {
     "name": "stdout",
     "output_type": "stream",
     "text": [
      "<class 'pandas.core.frame.DataFrame'>\n",
      "Int64Index: 135 entries, 0 to 227\n",
      "Data columns (total 10 columns):\n",
      " #   Column              Non-Null Count  Dtype  \n",
      "---  ------              --------------  -----  \n",
      " 0   Country             135 non-null    object \n",
      " 1   Continental region  135 non-null    object \n",
      " 2   Internet users      135 non-null    object \n",
      " 3   Population          135 non-null    object \n",
      " 4   Internet plans      135 non-null    float64\n",
      " 5   Avg price           135 non-null    object \n",
      " 6   Cheapest            135 non-null    float64\n",
      " 7   Most expensive      135 non-null    float64\n",
      " 8   Avg price (2021)    135 non-null    object \n",
      " 9   Avg price (2020)    135 non-null    object \n",
      "dtypes: float64(3), object(7)\n",
      "memory usage: 11.6+ KB\n"
     ]
    }
   ],
   "source": [
    "inter_price.info()"
   ]
  },
  {
   "cell_type": "code",
   "execution_count": 10,
   "metadata": {},
   "outputs": [],
   "source": [
    "inter_price['Internet users'] = inter_price['Internet users'].map(lambda e: e.replace(',',''))\n",
    "inter_price['Internet users'] = inter_price['Internet users'].astype(int)\n",
    "\n",
    "inter_price['Population'] = inter_price['Population'].map(lambda e: e.replace(',',''))\n",
    "inter_price['Population'] = inter_price['Population'].astype(int)\n",
    "\n",
    "inter_price['Internet plans'] = inter_price['Internet plans'].astype(int)\n",
    "\n",
    "inter_price['Avg price'] = inter_price['Avg price'].astype(float)\n",
    "\n",
    "inter_price['Avg price (2020)'] = inter_price['Avg price (2020)'].astype(float)\n",
    "\n",
    "inter_price['Avg price (2021)'] = inter_price['Avg price (2021)'].astype(float)"
   ]
  },
  {
   "cell_type": "code",
   "execution_count": 11,
   "metadata": {},
   "outputs": [
    {
     "name": "stdout",
     "output_type": "stream",
     "text": [
      "<class 'pandas.core.frame.DataFrame'>\n",
      "Int64Index: 135 entries, 0 to 227\n",
      "Data columns (total 10 columns):\n",
      " #   Column              Non-Null Count  Dtype  \n",
      "---  ------              --------------  -----  \n",
      " 0   Country             135 non-null    object \n",
      " 1   Continental region  135 non-null    object \n",
      " 2   Internet users      135 non-null    int32  \n",
      " 3   Population          135 non-null    int32  \n",
      " 4   Internet plans      135 non-null    int32  \n",
      " 5   Avg price           135 non-null    float64\n",
      " 6   Cheapest            135 non-null    float64\n",
      " 7   Most expensive      135 non-null    float64\n",
      " 8   Avg price (2021)    135 non-null    float64\n",
      " 9   Avg price (2020)    135 non-null    float64\n",
      "dtypes: float64(5), int32(3), object(2)\n",
      "memory usage: 10.0+ KB\n"
     ]
    }
   ],
   "source": [
    "inter_price.info()"
   ]
  },
  {
   "cell_type": "code",
   "execution_count": 12,
   "metadata": {},
   "outputs": [
    {
     "data": {
      "image/png": "[encoded data removed]",
      "text/plain": [
       "<Figure size 1440x1440 with 1 Axes>"
      ]
     },
     "metadata": {
      "needs_background": "light"
     },
     "output_type": "display_data"
    }
   ],
   "source": [
    "dt = inter_price[(inter_price['Population'] >= 10000000)]\n",
    "X = dt.sort_values(by = 'Internet users')['Country']\n",
    "Y = dt.sort_values(by = 'Internet users')['Internet users']\n",
    "f = plt.figure()\n",
    "f.set_size_inches(20, f.get_figheight()*5, forward=True)\n",
    "plt.barh(X,Y)\n",
    "plt.xlabel('Internet users')\n",
    "plt.ylabel('Country')\n",
    "plt.show()"
   ]
  },
  {
   "cell_type": "code",
   "execution_count": 13,
   "metadata": {},
   "outputs": [
    {
     "data": {
      "image/png": "[encoded data removed]",
      "text/plain": [
       "<Figure size 1440x1440 with 1 Axes>"
      ]
     },
     "metadata": {
      "needs_background": "light"
     },
     "output_type": "display_data"
    }
   ],
   "source": [
    "X = dt.sort_values(by = 'Avg price')['Country']\n",
    "Y = dt.sort_values(by = 'Avg price')['Avg price']\n",
    "f = plt.figure()\n",
    "f.set_size_inches(20, f.get_figheight()*5, forward=True)\n",
    "plt.barh(X,Y)\n",
    "plt.xlabel('Avg price')\n",
    "plt.ylabel('Country')\n",
    "plt.show()"
   ]
  },
  {
   "cell_type": "code",
   "execution_count": 14,
   "metadata": {},
   "outputs": [
    {
     "data": {
      "image/png": "[encoded data removed]",
      "text/plain": [
       "<Figure size 432x288 with 1 Axes>"
      ]
     },
     "metadata": {
      "needs_background": "light"
     },
     "output_type": "display_data"
    }
   ],
   "source": [
    "X = dt.iloc[:,2:]\n",
    "\n",
    "sc = StandardScaler()\n",
    "X = sc.fit_transform(X)\n",
    "wcss = []\n",
    "for i in range(1, 11):\n",
    "    kmeans = KMeans(n_clusters = i, init = 'k-means++', random_state = 42)\n",
    "    kmeans.fit(X)\n",
    "    wcss.append(kmeans.inertia_)\n",
    "plt.plot(range(1, 11), wcss)\n",
    "plt.title('The Elbow Method')\n",
    "plt.xlabel('Number of clusters')\n",
    "plt.ylabel('WCSS')\n",
    "plt.show()"
   ]
  },
  {
   "cell_type": "code",
   "execution_count": 15,
   "metadata": {},
   "outputs": [
    {
     "name": "stderr",
     "output_type": "stream",
     "text": [
      "c:\\Users\\HP\\AppData\\Local\\Programs\\Python\\Python310\\lib\\site-packages\\plotly\\express\\_core.py:271: FutureWarning: The frame.append method is deprecated and will be removed from pandas in a future version. Use pandas.concat instead.\n",
      "  trace_data = trace_data.append(trace_data.iloc[0])\n",
      "c:\\Users\\HP\\AppData\\Local\\Programs\\Python\\Python310\\lib\\site-packages\\plotly\\express\\_core.py:271: FutureWarning: The frame.append method is deprecated and will be removed from pandas in a future version. Use pandas.concat instead.\n",
      "  trace_data = trace_data.append(trace_data.iloc[0])\n"
     ]
    },
    {
     "data": {
      "application/vnd.plotly.v1+json": {
       "config": {
        "plotlyServerURL": "https://plot.ly"
       },
       "data": [
        {
         "hovertemplate": "label=0<br>value=%{r}<br>variable=%{theta}<extra></extra>",
         "legendgroup": "0",
         "line": {
          "color": "#636efa",
          "dash": "solid"
         },
         "marker": {
          "symbol": "circle"
         },
         "mode": "lines",
         "name": "0",
         "r": [
          0.005688635934962137,
          0.004827059488101945,
          0.028132777932348616,
          -0.08842439444204338,
          -0.11714206210816899,
          0.0003153565219867099,
          -0.07962939019769498,
          0.003947096700303278,
          0.005688635934962137
         ],
         "showlegend": true,
         "subplot": "polar",
         "theta": [
          "Internet users",
          "Population",
          "Internet plans",
          "Avg price",
          "Cheapest",
          "Most expensive",
          "Avg price (2021)",
          "Avg price (2020)",
          "Internet users"
         ],
         "type": "scatterpolar"
        },
        {
         "hovertemplate": "label=1<br>value=%{r}<br>variable=%{theta}<extra></extra>",
         "legendgroup": "1",
         "line": {
          "color": "#EF553B",
          "dash": "solid"
         },
         "marker": {
          "symbol": "circle"
         },
         "mode": "lines",
         "name": "1",
         "r": [
          -0.40389315138231047,
          -0.3427212236552397,
          -1.9974272331967413,
          6.27813200538508,
          8.317086409679998,
          -0.022390313061059805,
          5.653686704036343,
          -0.28024386572153204,
          -0.40389315138231047
         ],
         "showlegend": true,
         "subplot": "polar",
         "theta": [
          "Internet users",
          "Population",
          "Internet plans",
          "Avg price",
          "Cheapest",
          "Most expensive",
          "Avg price (2021)",
          "Avg price (2020)",
          "Internet users"
         ],
         "type": "scatterpolar"
        }
       ],
       "layout": {
        "height": 800,
        "legend": {
         "title": {
          "text": "label"
         },
         "tracegroupgap": 0
        },
        "margin": {
         "t": 60
        },
        "polar": {
         "angularaxis": {
          "direction": "clockwise",
          "rotation": 90
         },
         "domain": {
          "x": [
           0,
           1
          ],
          "y": [
           0,
           1
          ]
         }
        },
        "template": {
         "data": {
          "bar": [
           {
            "error_x": {
             "color": "#2a3f5f"
            },
            "error_y": {
             "color": "#2a3f5f"
            },
            "marker": {
             "line": {
              "color": "#E5ECF6",
              "width": 0.5
             },
             "pattern": {
              "fillmode": "overlay",
              "size": 10,
              "solidity": 0.2
             }
            },
            "type": "bar"
           }
          ],
          "barpolar": [
           {
            "marker": {
             "line": {
              "color": "#E5ECF6",
              "width": 0.5
             },
             "pattern": {
              "fillmode": "overlay",
              "size": 10,
              "solidity": 0.2
             }
            },
            "type": "barpolar"
           }
          ],
          "carpet": [
           {
            "aaxis": {
             "endlinecolor": "#2a3f5f",
             "gridcolor": "white",
             "linecolor": "white",
             "minorgridcolor": "white",
             "startlinecolor": "#2a3f5f"
            },
            "baxis": {
             "endlinecolor": "#2a3f5f",
             "gridcolor": "white",
             "linecolor": "white",
             "minorgridcolor": "white",
             "startlinecolor": "#2a3f5f"
            },
            "type": "carpet"
           }
          ],
          "choropleth": [
           {
            "colorbar": {
             "outlinewidth": 0,
             "ticks": ""
            },
            "type": "choropleth"
           }
          ],
          "contour": [
           {
            "colorbar": {
             "outlinewidth": 0,
             "ticks": ""
            },
            "colorscale": [
             [
              0,
              "#0d0887"
             ],
             [
              0.1111111111111111,
              "#46039f"
             ],
             [
              0.2222222222222222,
              "#7201a8"
             ],
             [
              0.3333333333333333,
              "#9c179e"
             ],
             [
              0.4444444444444444,
              "#bd3786"
             ],
             [
              0.5555555555555556,
              "#d8576b"
             ],
             [
              0.6666666666666666,
              "#ed7953"
             ],
             [
              0.7777777777777778,
              "#fb9f3a"
             ],
             [
              0.8888888888888888,
              "#fdca26"
             ],
             [
              1,
              "#f0f921"
             ]
            ],
            "type": "contour"
           }
          ],
          "contourcarpet": [
           {
            "colorbar": {
             "outlinewidth": 0,
             "ticks": ""
            },
            "type": "contourcarpet"
           }
          ],
          "heatmap": [
           {
            "colorbar": {
             "outlinewidth": 0,
             "ticks": ""
            },
            "colorscale": [
             [
              0,
              "#0d0887"
             ],
             [
              0.1111111111111111,
              "#46039f"
             ],
             [
              0.2222222222222222,
              "#7201a8"
             ],
             [
              0.3333333333333333,
              "#9c179e"
             ],
             [
              0.4444444444444444,
              "#bd3786"
             ],
             [
              0.5555555555555556,
              "#d8576b"
             ],
             [
              0.6666666666666666,
              "#ed7953"
             ],
             [
              0.7777777777777778,
              "#fb9f3a"
             ],
             [
              0.8888888888888888,
              "#fdca26"
             ],
             [
              1,
              "#f0f921"
             ]
            ],
            "type": "heatmap"
           }
          ],
          "heatmapgl": [
           {
            "colorbar": {
             "outlinewidth": 0,
             "ticks": ""
            },
            "colorscale": [
             [
              0,
              "#0d0887"
             ],
             [
              0.1111111111111111,
              "#46039f"
             ],
             [
              0.2222222222222222,
              "#7201a8"
             ],
             [
              0.3333333333333333,
              "#9c179e"
             ],
             [
              0.4444444444444444,
              "#bd3786"
             ],
             [
              0.5555555555555556,
              "#d8576b"
             ],
             [
              0.6666666666666666,
              "#ed7953"
             ],
             [
              0.7777777777777778,
              "#fb9f3a"
             ],
             [
              0.8888888888888888,
              "#fdca26"
             ],
             [
              1,
              "#f0f921"
             ]
            ],
            "type": "heatmapgl"
           }
          ],
          "histogram": [
           {
            "marker": {
             "pattern": {
              "fillmode": "overlay",
              "size": 10,
              "solidity": 0.2
             }
            },
            "type": "histogram"
           }
          ],
          "histogram2d": [
           {
            "colorbar": {
             "outlinewidth": 0,
             "ticks": ""
            },
            "colorscale": [
             [
              0,
              "#0d0887"
             ],
             [
              0.1111111111111111,
              "#46039f"
             ],
             [
              0.2222222222222222,
              "#7201a8"
             ],
             [
              0.3333333333333333,
              "#9c179e"
             ],
             [
              0.4444444444444444,
              "#bd3786"
             ],
             [
              0.5555555555555556,
              "#d8576b"
             ],
             [
              0.6666666666666666,
              "#ed7953"
             ],
             [
              0.7777777777777778,
              "#fb9f3a"
             ],
             [
              0.8888888888888888,
              "#fdca26"
             ],
             [
              1,
              "#f0f921"
             ]
            ],
            "type": "histogram2d"
           }
          ],
          "histogram2dcontour": [
           {
            "colorbar": {
             "outlinewidth": 0,
             "ticks": ""
            },
            "colorscale": [
             [
              0,
              "#0d0887"
             ],
             [
              0.1111111111111111,
              "#46039f"
             ],
             [
              0.2222222222222222,
              "#7201a8"
             ],
             [
              0.3333333333333333,
              "#9c179e"
             ],
             [
              0.4444444444444444,
              "#bd3786"
             ],
             [
              0.5555555555555556,
              "#d8576b"
             ],
             [
              0.6666666666666666,
              "#ed7953"
             ],
             [
              0.7777777777777778,
              "#fb9f3a"
             ],
             [
              0.8888888888888888,
              "#fdca26"
             ],
             [
              1,
              "#f0f921"
             ]
            ],
            "type": "histogram2dcontour"
           }
          ],
          "mesh3d": [
           {
            "colorbar": {
             "outlinewidth": 0,
             "ticks": ""
            },
            "type": "mesh3d"
           }
          ],
          "parcoords": [
           {
            "line": {
             "colorbar": {
              "outlinewidth": 0,
              "ticks": ""
             }
            },
            "type": "parcoords"
           }
          ],
          "pie": [
           {
            "automargin": true,
            "type": "pie"
           }
          ],
          "scatter": [
           {
            "fillpattern": {
             "fillmode": "overlay",
             "size": 10,
             "solidity": 0.2
            },
            "type": "scatter"
           }
          ],
          "scatter3d": [
           {
            "line": {
             "colorbar": {
              "outlinewidth": 0,
              "ticks": ""
             }
            },
            "marker": {
             "colorbar": {
              "outlinewidth": 0,
              "ticks": ""
             }
            },
            "type": "scatter3d"
           }
          ],
          "scattercarpet": [
           {
            "marker": {
             "colorbar": {
              "outlinewidth": 0,
              "ticks": ""
             }
            },
            "type": "scattercarpet"
           }
          ],
          "scattergeo": [
           {
            "marker": {
             "colorbar": {
              "outlinewidth": 0,
              "ticks": ""
             }
            },
            "type": "scattergeo"
           }
          ],
          "scattergl": [
           {
            "marker": {
             "colorbar": {
              "outlinewidth": 0,
              "ticks": ""
             }
            },
            "type": "scattergl"
           }
          ],
          "scattermapbox": [
           {
            "marker": {
             "colorbar": {
              "outlinewidth": 0,
              "ticks": ""
             }
            },
            "type": "scattermapbox"
           }
          ],
          "scatterpolar": [
           {
            "marker": {
             "colorbar": {
              "outlinewidth": 0,
              "ticks": ""
             }
            },
            "type": "scatterpolar"
           }
          ],
          "scatterpolargl": [
           {
            "marker": {
             "colorbar": {
              "outlinewidth": 0,
              "ticks": ""
             }
            },
            "type": "scatterpolargl"
           }
          ],
          "scatterternary": [
           {
            "marker": {
             "colorbar": {
              "outlinewidth": 0,
              "ticks": ""
             }
            },
            "type": "scatterternary"
           }
          ],
          "surface": [
           {
            "colorbar": {
             "outlinewidth": 0,
             "ticks": ""
            },
            "colorscale": [
             [
              0,
              "#0d0887"
             ],
             [
              0.1111111111111111,
              "#46039f"
             ],
             [
              0.2222222222222222,
              "#7201a8"
             ],
             [
              0.3333333333333333,
              "#9c179e"
             ],
             [
              0.4444444444444444,
              "#bd3786"
             ],
             [
              0.5555555555555556,
              "#d8576b"
             ],
             [
              0.6666666666666666,
              "#ed7953"
             ],
             [
              0.7777777777777778,
              "#fb9f3a"
             ],
             [
              0.8888888888888888,
              "#fdca26"
             ],
             [
              1,
              "#f0f921"
             ]
            ],
            "type": "surface"
           }
          ],
          "table": [
           {
            "cells": {
             "fill": {
              "color": "#EBF0F8"
             },
             "line": {
              "color": "white"
             }
            },
            "header": {
             "fill": {
              "color": "#C8D4E3"
             },
             "line": {
              "color": "white"
             }
            },
            "type": "table"
           }
          ]
         },
         "layout": {
          "annotationdefaults": {
           "arrowcolor": "#2a3f5f",
           "arrowhead": 0,
           "arrowwidth": 1
          },
          "autotypenumbers": "strict",
          "coloraxis": {
           "colorbar": {
            "outlinewidth": 0,
            "ticks": ""
           }
          },
          "colorscale": {
           "diverging": [
            [
             0,
             "#8e0152"
            ],
            [
             0.1,
             "#c51b7d"
            ],
            [
             0.2,
             "#de77ae"
            ],
            [
             0.3,
             "#f1b6da"
            ],
            [
             0.4,
             "#fde0ef"
            ],
            [
             0.5,
             "#f7f7f7"
            ],
            [
             0.6,
             "#e6f5d0"
            ],
            [
             0.7,
             "#b8e186"
            ],
            [
             0.8,
             "#7fbc41"
            ],
            [
             0.9,
             "#4d9221"
            ],
            [
             1,
             "#276419"
            ]
           ],
           "sequential": [
            [
             0,
             "#0d0887"
            ],
            [
             0.1111111111111111,
             "#46039f"
            ],
            [
             0.2222222222222222,
             "#7201a8"
            ],
            [
             0.3333333333333333,
             "#9c179e"
            ],
            [
             0.4444444444444444,
             "#bd3786"
            ],
            [
             0.5555555555555556,
             "#d8576b"
            ],
            [
             0.6666666666666666,
             "#ed7953"
            ],
            [
             0.7777777777777778,
             "#fb9f3a"
            ],
            [
             0.8888888888888888,
             "#fdca26"
            ],
            [
             1,
             "#f0f921"
            ]
           ],
           "sequentialminus": [
            [
             0,
             "#0d0887"
            ],
            [
             0.1111111111111111,
             "#46039f"
            ],
            [
             0.2222222222222222,
             "#7201a8"
            ],
            [
             0.3333333333333333,
             "#9c179e"
            ],
            [
             0.4444444444444444,
             "#bd3786"
            ],
            [
             0.5555555555555556,
             "#d8576b"
            ],
            [
             0.6666666666666666,
             "#ed7953"
            ],
            [
             0.7777777777777778,
             "#fb9f3a"
            ],
            [
             0.8888888888888888,
             "#fdca26"
            ],
            [
             1,
             "#f0f921"
            ]
           ]
          },
          "colorway": [
           "#636efa",
           "#EF553B",
           "#00cc96",
           "#ab63fa",
           "#FFA15A",
           "#19d3f3",
           "#FF6692",
           "#B6E880",
           "#FF97FF",
           "#FECB52"
          ],
          "font": {
           "color": "#2a3f5f"
          },
          "geo": {
           "bgcolor": "white",
           "lakecolor": "white",
           "landcolor": "#E5ECF6",
           "showlakes": true,
           "showland": true,
           "subunitcolor": "white"
          },
          "hoverlabel": {
           "align": "left"
          },
          "hovermode": "closest",
          "mapbox": {
           "style": "light"
          },
          "paper_bgcolor": "white",
          "plot_bgcolor": "#E5ECF6",
          "polar": {
           "angularaxis": {
            "gridcolor": "white",
            "linecolor": "white",
            "ticks": ""
           },
           "bgcolor": "#E5ECF6",
           "radialaxis": {
            "gridcolor": "white",
            "linecolor": "white",
            "ticks": ""
           }
          },
          "scene": {
           "xaxis": {
            "backgroundcolor": "#E5ECF6",
            "gridcolor": "white",
            "gridwidth": 2,
            "linecolor": "white",
            "showbackground": true,
            "ticks": "",
            "zerolinecolor": "white"
           },
           "yaxis": {
            "backgroundcolor": "#E5ECF6",
            "gridcolor": "white",
            "gridwidth": 2,
            "linecolor": "white",
            "showbackground": true,
            "ticks": "",
            "zerolinecolor": "white"
           },
           "zaxis": {
            "backgroundcolor": "#E5ECF6",
            "gridcolor": "white",
            "gridwidth": 2,
            "linecolor": "white",
            "showbackground": true,
            "ticks": "",
            "zerolinecolor": "white"
           }
          },
          "shapedefaults": {
           "line": {
            "color": "#2a3f5f"
           }
          },
          "ternary": {
           "aaxis": {
            "gridcolor": "white",
            "linecolor": "white",
            "ticks": ""
           },
           "baxis": {
            "gridcolor": "white",
            "linecolor": "white",
            "ticks": ""
           },
           "bgcolor": "#E5ECF6",
           "caxis": {
            "gridcolor": "white",
            "linecolor": "white",
            "ticks": ""
           }
          },
          "title": {
           "x": 0.05
          },
          "xaxis": {
           "automargin": true,
           "gridcolor": "white",
           "linecolor": "white",
           "ticks": "",
           "title": {
            "standoff": 15
           },
           "zerolinecolor": "white",
           "zerolinewidth": 2
          },
          "yaxis": {
           "automargin": true,
           "gridcolor": "white",
           "linecolor": "white",
           "ticks": "",
           "title": {
            "standoff": 15
           },
           "zerolinecolor": "white",
           "zerolinewidth": 2
          }
         }
        },
        "width": 800
       }
      }
     },
     "metadata": {},
     "output_type": "display_data"
    }
   ],
   "source": [
    "kmeans = KMeans(\n",
    "        n_clusters=2, init=\"k-means++\",\n",
    "        n_init=10,\n",
    "        tol=1e-04, random_state=42\n",
    "    )\n",
    "kmeans.fit(X)\n",
    "clusters=pd.DataFrame(X,columns=dt.columns[2:])\n",
    "clusters['label']=kmeans.labels_\n",
    "polar=clusters.groupby(\"label\").mean().reset_index()\n",
    "polar=pd.melt(polar,id_vars=[\"label\"])\n",
    "fig4 = px.line_polar(polar, r=\"value\", theta=\"variable\", color=\"label\", line_close=True,height=800,width=800)\n",
    "fig4.show()"
   ]
  }
 ],
 "metadata": {
  "kernelspec": {
   "display_name": "Python 3.10.5 64-bit",
   "language": "python",
   "name": "python3"
  },
  "language_info": {
   "codemirror_mode": {
    "name": "ipython",
    "version": 3
   },
   "file_extension": ".py",
   "mimetype": "text/x-python",
   "name": "python",
   "nbconvert_exporter": "python",
   "pygments_lexer": "ipython3",
   "version": "3.10.5"
  },
  "orig_nbformat": 4,
  "vscode": {
   "interpreter": {
    "hash": "a9cff5a362bc38ef45d817ae74b1af54d6a076e3d773891282bce078b815ba34"
   }
  }
 },
 "nbformat": 4,
 "nbformat_minor": 2
}
